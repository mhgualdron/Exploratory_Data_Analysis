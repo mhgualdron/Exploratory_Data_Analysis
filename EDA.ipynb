{
 "cells": [
  {
   "cell_type": "code",
   "execution_count": 9,
   "id": "25470705-0b82-41d3-b19a-acbbd90532b9",
   "metadata": {},
   "outputs": [
    {
     "name": "stdout",
     "output_type": "stream",
     "text": [
      "C:\\Users\\Mateo\\Documents\\Programacion\\Platzi\\Python\\EDA\\Imagenes\n",
      "C:\\Users\\Mateo\\Documents\\Programacion\\Platzi\\Python\\EDA\n",
      "C:\\Users\\Mateo\\Documents\\Programacion\\Platzi\\Python\\EDA\n"
     ]
    }
   ],
   "source": [
    "!cd\n",
    "%cd C:\\Users\\Mateo\\Documents\\Programacion\\Platzi\\Python\\EDA\n",
    "!cd"
   ]
  },
  {
   "cell_type": "markdown",
   "id": "c3c8ee7a-db15-4e5e-9b45-f983111b0a9a",
   "metadata": {
    "tags": []
   },
   "source": [
    "# <span style=\"color:royalblue\"><center>¿Por que debería hacer un análisis exploratorio de datos?</center></span>\n",
    "\n",
    "* Organizar y entender las variables: podrás identificar los diferentes tipos de variables, las categorías a la que pertenecen y el tipo de análisis que puedes realizar sobre ellas.\n",
    "* Establecer relaciones entre las variables\n",
    "* Encontrar patrones ocultos en los datos: podrás encontrar información o comportamientos relevantes cuando hagas el EDA.\n",
    "* Ayuda a escoger el modelo correcto para la necesidad correcta: una vez encuentres como están relacionadas las variables podrás descubrir las variables que mas se ajustan a un tipo de modelo y de esta manera eligiras el correcto\n",
    "* Ayuda a tomar decisiones informadas: decisiones basadas en los datos, en las relaciones que encuentres entre variables, en patrones ocultos y en los modelos que generes a través de la EDA\n",
    "\n",
    "\n",
    "### Pasos de una Análisis Exploratorio de Datos:\n",
    "1. **Hacer preguntas sobe los datos. Hazte las siguientes preguntas para guiar el EDA:**\n",
    "\n",
    "Que te gustaria encontrar?\n",
    "\n",
    "Que quisieras saber de los datos?\n",
    "\n",
    "Cual es la razon para realizar el analisis?\n",
    "\n",
    "2. **Determinar el tamaño de los datos. Debes responder preguntas como:**\n",
    "\n",
    "Cuantas observaciones existen?\n",
    "\n",
    "Cuantas variables hay?\n",
    "\n",
    "Necesito todas las observaciones?\n",
    "\n",
    "Necesito todas las variables?\n",
    "\n",
    "3. **Categorizar las variables. Debes preguntarte:**\n",
    "\n",
    "Cuantas variables categóricas existen?\n",
    "\n",
    "Cuantas variables continuas existen?\n",
    "\n",
    "Como puedo explorar cada variable dependiendo de su categoría?\n",
    "\n",
    "4. **Limpieza y validación de los datos. En ese paso debes preguntarte:**\n",
    "\n",
    "Tengo valores faltantes?\n",
    "\n",
    "Cual es la proporción de datos faltantes?\n",
    "\n",
    "Como puedo tratar a los datos faltantes?\n",
    "\n",
    "Cual es la distribución de los datos?\n",
    "\n",
    "Tengo valores atipicos?\n",
    "\n",
    "5. **Establecer relaciones entre los datos. Responde preguntas como:**\n",
    "\n",
    "Existe algun tipo de relacion entre mi variable X y Y?\n",
    "\n",
    "Que pasa ahora si considero la variable Z en el analisis?\n",
    "\n",
    "Que significa que las observaciones se agrupen?\n",
    "\n",
    "Que significa el patron que se observa?\n",
    "\n",
    "\n",
    "## *Este proceso es ciclico. A pesar de que pueda parecer infinito, este proceso en algun momento debe salir del ciclo y continuar para obtener algun tipo de valor*"
   ]
  },
  {
   "cell_type": "markdown",
   "id": "743777aa-95ea-4bbf-9125-4ba328c602ff",
   "metadata": {},
   "source": [
    "### Tipos de analítica de datos:\n",
    "Las etapas descriptivas y diagnóstivas hablan del pasado\n",
    "1. Descriptiva \n",
    "2. Prescriptiva\n",
    "\n",
    "Las etapas predictivas y diagósticas hablan del futuro.\n",
    "\n",
    "3. Predictiva\n",
    "4. Diagnóstica\n",
    "\n",
    "<img src= niveles.png ></img>\n",
    "<img src= etapas.png ></img>"
   ]
  },
  {
   "cell_type": "markdown",
   "id": "78bd67cc-d058-4889-a478-a1f36ad582cc",
   "metadata": {},
   "source": [
    "### Tipos de datos:\n",
    "<img src= tipos.jpg ></img>\n",
    "\n",
    "Ordinales: tienen un orden natural ejemplo: días de la semana.\n",
    "Nominal: no tienen un orden ej: géneros de películas.\n",
    "\n",
    "Discretos: contables.\n",
    "Continuos: no contables.\n",
    "\n",
    "\n",
    "### Tipos de análisis:\n",
    "\n",
    "\n",
    "1. Análisis Univariado: analiza a cada variable por separado, entender sus característica.\n",
    "2. Análisis Bivariado: analiza la relacion de cada par de variables. Permite buscar relaciones intrinsecas entre los datos\n",
    "3. Análisis Multivariado: analiza el efecto simultaneo de multiples variables. Analiza la variables como un conjunto\n",
    "#### *En el comienzo de la EDA, el análisis univariado te va a dar informacion mucho mas valiosa que comenzar con todas las variables al mismo tiempo. Te ayuda a analizar la contribución individual de una variable sobre las demas para luego incrementar la cantidad de variables y analizar los efectos en conjunto.*"
   ]
  },
  {
   "cell_type": "markdown",
   "id": "a830d734-e608-4e21-81ae-6f01983d70f7",
   "metadata": {},
   "source": [
    "## <span style=\"color:royalblue\"><center> Tipos de recolección de datos </center></span>\n",
    "<img src='recol.png'>\n",
    "\n",
    "## <span style=\"color:royalblue\"><center> Validación de datos </center></span>\n",
    "El proceso por el que nos aseguramos de la consistencia y precisión de los datos. Si los datos no son precisos, no serán precisos los resultados. \n",
    "<img src='validar.png'>"
   ]
  },
  {
   "cell_type": "code",
   "execution_count": null,
   "id": "e9106b38-770a-470c-a072-9f9c53580aff",
   "metadata": {},
   "outputs": [],
   "source": []
  }
 ],
 "metadata": {
  "kernelspec": {
   "display_name": "Python 3 (ipykernel)",
   "language": "python",
   "name": "python3"
  },
  "language_info": {
   "codemirror_mode": {
    "name": "ipython",
    "version": 3
   },
   "file_extension": ".py",
   "mimetype": "text/x-python",
   "name": "python",
   "nbconvert_exporter": "python",
   "pygments_lexer": "ipython3",
   "version": "3.11.0"
  }
 },
 "nbformat": 4,
 "nbformat_minor": 5
}
